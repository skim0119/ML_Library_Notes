{
 "cells": [
  {
   "cell_type": "markdown",
   "metadata": {},
   "source": [
    "# 경사하강법\n",
    "\n",
    "텐서플로는 다양한 최적화 방식들을 메소드로 구현해놓았다. 덕분에 덕분에 신경망을 구현할 때 백프로퍼게이션 과정을 쉽게 적용 가능하다.\n",
    "\n",
    "경사하강법을 구현할때는 우선 그래프의 결과의 Loss의 척도를 정한 뒤, Loss를 최소화 하는 방향으로 진행한다."
   ]
  },
  {
   "cell_type": "code",
   "execution_count": 1,
   "metadata": {},
   "outputs": [
    {
     "name": "stderr",
     "output_type": "stream",
     "text": [
      "/Users/skim0119/Desktop/Project/ML_Library_Notes/venv/lib/python3.6/site-packages/h5py/__init__.py:36: FutureWarning: Conversion of the second argument of issubdtype from `float` to `np.floating` is deprecated. In future, it will be treated as `np.float64 == np.dtype(float).type`.\n",
      "  from ._conv import register_converters as _register_converters\n"
     ]
    }
   ],
   "source": [
    "import tensorflow as tf"
   ]
  },
  {
   "cell_type": "code",
   "execution_count": 21,
   "metadata": {},
   "outputs": [
    {
     "name": "stdout",
     "output_type": "stream",
     "text": [
      "[[ 0.17974567 -1.5417141  -0.5885861 ]\n",
      " [ 0.23632607 -1.3352723   0.14424683]\n",
      " [-0.91812176 -1.5257802  -0.505787  ]]\n",
      "[[1. 0. 0.]\n",
      " [0. 1. 0.]\n",
      " [0. 0. 1.]]\n"
     ]
    }
   ],
   "source": [
    "tf.reset_default_graph()\n",
    "\n",
    "x = tf.Variable(tf.truncated_normal((3,3)))\n",
    "x_round = tf.round(x)\n",
    "x_target = tf.eye(3)\n",
    "loss = tf.reduce_mean(tf.square(x_target - x))\n",
    "optimizer = tf.train.GradientDescentOptimizer(learning_rate=0.1).minimize(loss)\n",
    "\n",
    "sess = tf.Session()\n",
    "sess.run(tf.global_variables_initializer())\n",
    "print(sess.run(x))\n",
    "for i in range(10000):\n",
    "    sess.run(optimizer)\n",
    "\n",
    "print(sess.run(x_round))\n",
    "    \n",
    "sess.close()"
   ]
  }
 ],
 "metadata": {
  "kernelspec": {
   "display_name": "Python 3",
   "language": "python",
   "name": "python3"
  },
  "language_info": {
   "codemirror_mode": {
    "name": "ipython",
    "version": 3
   },
   "file_extension": ".py",
   "mimetype": "text/x-python",
   "name": "python",
   "nbconvert_exporter": "python",
   "pygments_lexer": "ipython3",
   "version": "3.6.3"
  }
 },
 "nbformat": 4,
 "nbformat_minor": 2
}
