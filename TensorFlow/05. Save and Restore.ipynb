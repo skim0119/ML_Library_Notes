{
 "cells": [
  {
   "cell_type": "markdown",
   "metadata": {},
   "source": [
    "# 저장과 불러오기\n",
    "\n",
    "[tf Save and Restore api](https://www.tensorflow.org/programmers_guide/saved_model)\n",
    "\n",
    "텐서플로 그래프 안에 기본적인 요소는 상수, 플레이스홀더, 오퍼레이터, 변수 등을 포함하고 있는데, 이중에 현재까지 만들어진 그래프를 나타내는 값은 변수입니다. 즉 현재까지 만들어진 텐서플로로 구현된 그래프를 저장하기 위해서는 그래프의 형태와 변수값을 저장하는게 가장 중요합니다.\n",
    "\n",
    "우선 변수값을 저장하는 방법을 살펴보도록 하겠습니다.\n",
    "\n",
    "## 체크포인트\n",
    "\n",
    "변수값은 보통 .ckpt 파일 형식으로 저장하고, 체크포인트를 의미합니다.\n",
    "\n",
    "파일 명 끝에는 몇번째 트레이닝 스텝을 거쳤는지를 나타내는 global_step을 달아주기도 합니다.\n",
    "\n",
    "텐서플로는 체크포인트 상태를 관리해주는 여러 메소드들이 tf.train 모듈 안에 존재합니다.\n",
    "\n",
    "- ckpt = tf.train.get_checkpoint_state('./model')\n",
    "    - 체크포인트가 존재하는지를 정해준 디렉토리 안에서 찾아냅니다. 여러 저장상태가 존재할 경우, 가장 마지막으로 저장된 모델을 불러옵니다.\n",
    "    - 만약 체크포인트가 존재하지 않거나 디렉토리가 존재하지 않는다면 빈 상태를 반환합니다.\n",
    "- tf.train.checkpoint_exists(ckpt.model_checkpoint_path)\n",
    "    - 체크포인트 디렉토리 안에 체크포인트가 존재하는지를 확인하는 메소드입니다.\n",
    "\n",
    "## 세이버\n",
    "\n",
    "텐서플로는 그래프값을 저장하고 불러오는것을 지원하는 세이버(tf.train.saver)라는 모듈이 존재합니다.\n",
    "\n",
    "세이버의 생성자에는 저장을 할 변수들을 넣어주어야 합니다. 보통 tf.global_variables()을 사용해 생성된 모든 변수들을 포함하기도 하고, 중요한 일부분만 저장하기도 합니다.\n",
    "\n",
    "가장 많이 사용하는 메소드는 save 와 restore 입니다. 두 메소드 모두 세션과 저장위치를 지정해주어야 하며, save를 할 시에는 global_step을 넣어주기도 합니다.\n",
    "\n",
    "```py\n",
    "saver.restore(sess, ckpt.model_checkpoint_path)\n",
    "...\n",
    "saver.save(sess, './model/dnn.ckpt', global_step=global_step)\n",
    "```\n",
    "\n",
    "불러오기를 할 때 만약 그래프의 형태와 불러오는 체크포인트의 상태가 일치하지 않는다면 오류가 생깁니다. 이 방법은 그래프 형태를 저장하지 않고 그래프에 속한 변수 값들만 저장하기 때문에, 불러오기를 하기 전에 동일한 형태의 그래프를 생성해주어야 합니다."
   ]
  }
 ],
 "metadata": {
  "kernelspec": {
   "display_name": "Python 3",
   "language": "python",
   "name": "python3"
  },
  "language_info": {
   "codemirror_mode": {
    "name": "ipython",
    "version": 3
   },
   "file_extension": ".py",
   "mimetype": "text/x-python",
   "name": "python",
   "nbconvert_exporter": "python",
   "pygments_lexer": "ipython3",
   "version": "3.6.3"
  }
 },
 "nbformat": 4,
 "nbformat_minor": 2
}
